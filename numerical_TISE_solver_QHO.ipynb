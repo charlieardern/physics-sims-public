{
  "nbformat": 4,
  "nbformat_minor": 0,
  "metadata": {
    "colab": {
      "provenance": [],
      "authorship_tag": "ABX9TyN5MOYUyz87MtLzXzugLc+r"
    },
    "kernelspec": {
      "name": "python3",
      "display_name": "Python 3"
    },
    "language_info": {
      "name": "python"
    }
  },
  "cells": [
    {
      "cell_type": "markdown",
      "source": [
        "# Numerically Solving the Schrodinger Equation for the Quantum Harmonic Oscillator\n",
        "We consider solutions of the time independent Schrodinger equation for the quantum harmonic oscillator with:\n",
        "$$-\\frac{\\hbar^2}{2m}\\frac{d^2\\psi}{dx^2}+V(x)\\psi(x)=E\\psi(x)$$\n",
        "We will make use of Numerov's method for solving second order ODEs."
      ],
      "metadata": {
        "id": "dMKeG-MaOA89"
      }
    },
    {
      "cell_type": "code",
      "execution_count": null,
      "metadata": {
        "id": "QWNLCcjjN1Yd"
      },
      "outputs": [],
      "source": [
        "import numpy as np\n",
        "import matplotlib.pyplot as plt"
      ]
    },
    {
      "cell_type": "markdown",
      "source": [
        "## Building Numerical and Analytic $\\psi(x)$ Functions\n",
        "We choose units so the TISE becomes:\n",
        "$$\\frac{d^2\\psi}{dx^2}=f(x)\\psi$$\n",
        "where we have $f(x)=V(x)-E$ and $V(x)=x^2$. We solve on the interval $[x_0, x_1]$ in steps of size $\\delta$.\n",
        "\n",
        "\\\\\n",
        "We deal with the boundary conditions:\n",
        "$$\\psi(0)=\\begin{cases} 0 \\text{ for odd } n\\\\ 1 \\text{ for even } n\\end{cases}$$\n",
        "$$\\psi'(0)=\\begin{cases} 1 \\text{ for odd } n\\\\ 0 \\text{ for even } n\\end{cases}$$\n",
        "The numerical approximator uses Numerov's method:\n",
        "$$\\left[1-\\frac{\\delta^2}{12}f\\left([j+1]\\delta\\right)\\right]\\psi([j+1]\\delta)=\\left[2+\\frac{5\\delta^2}{6}f(j\\delta)\\right]\\psi(j\\delta)-\\left[1-\\frac{\\delta^2}{12}f([j-1]\\delta)\\right]\\psi([j-1]\\delta)$$\n",
        "\n",
        "This evidently requires two adjacent points to find the rest, but our boundary conditions only provide one, $\\psi(0)$. We can find $\\psi(\\delta)$ using:\n",
        "$$\\psi(\\delta) = \\psi(0)+\\frac{\\delta^2}{2}f(0)\\psi(0)+\\frac{\\delta^4}{24}\\left(f''(0)\\psi(0)+2f'(0)\\psi'(0)+f(0)^2\\psi(0)\\right) \\text{ for even } n$$\n",
        "$$\\psi(\\delta)=\\delta\\psi'(0)+\\frac{\\delta^3}{6}\\left(f(0)\\psi'(0)+f'(0)\\psi(0)\\right) \\text{ for odd } n$$\n",
        "\n",
        "Note that for harmonic oscillators we have $f'(0)=0$\n",
        "\\\\\n",
        "After finding the second point using either of these methods, we just run the Numerov method repeatedly to find the rest of the points.\n",
        "\n",
        "\n",
        "Note that the analytical solutions take the form:\n",
        "$$\\psi_n(x)=H_n(x)e^{-x^2/2}$$\n",
        "where $H_n$ are the Hermite polynomials."
      ],
      "metadata": {
        "id": "YAFvld-uVcsb"
      }
    },
    {
      "cell_type": "code",
      "source": [
        "x0 = 0\n",
        "x1 = 5\n",
        "delta = 0.05\n",
        "num_points = int(1+(x1-x0)/0.05)\n",
        "x = np.linspace(x0,x1,num=num_points)"
      ],
      "metadata": {
        "id": "015c_IwjN7OR"
      },
      "execution_count": null,
      "outputs": []
    },
    {
      "cell_type": "code",
      "source": [
        "def f(x,E):\n",
        "  return x**2-E"
      ],
      "metadata": {
        "id": "26jwlRA3DyRG"
      },
      "execution_count": null,
      "outputs": []
    },
    {
      "cell_type": "code",
      "source": [
        "# This will output a numerical approximation of psi(x) given the function and boundary conditions @x=0\n",
        "def solve_numerov(f, x, n, E):\n",
        "  psi = np.zeros_like(x)\n",
        "  if n%2 == 0:\n",
        "    psi0 = 1\n",
        "    dpsi0 = 0\n",
        "    psi[0] = psi0\n",
        "    psi[1] = psi0 + 0.5*delta**2*f(0,E)*psi0+(1/24)*delta**4*(f(0,E)*psi0+f(0,E)**2*psi0)\n",
        "  else:\n",
        "    psi0 = 0\n",
        "    dpsi0 = 1\n",
        "    psi[0] = psi0\n",
        "    psi[1] = delta*dpsi0+(1/6)*delta**3*(f(0,E)*dpsi0)\n",
        "  for i in range(num_points-2):\n",
        "    a = 1-f(x[i+2],E)*delta**2/12\n",
        "    b = 2+delta**2*f(x[i+1],E)*5/6\n",
        "    c = 1-delta**2*f(x[i],E)/12\n",
        "    psi[i+2]= (b*psi[i+1]-c*psi[i])/a\n",
        "  return psi"
      ],
      "metadata": {
        "id": "OOlNVwtfO2Cs"
      },
      "execution_count": null,
      "outputs": []
    },
    {
      "cell_type": "code",
      "source": [
        "# This will output a set of psi values which have been computed analytically\n",
        "from numpy.polynomial.hermite import Hermite\n",
        "\n",
        "def analytic_psi(n,x):\n",
        "  # Generate correct form of nth state wave function\n",
        "  coeffs = np.zeros(n+1)\n",
        "  coeffs[n] = 1\n",
        "  poly = Hermite(coeffs)\n",
        "  # Generate the psi values\n",
        "  func = lambda x: poly(x) * np.exp(-x**2/2)\n",
        "  psi = func(x)\n",
        "  # For odd n we require dpsi0 = 1 and for even n we require psi0=1 so need to divide by gradient or true value at 0 to make 1.\n",
        "  if n % 2 == 0:\n",
        "    div = func(0)\n",
        "  else:\n",
        "    h=0.000001\n",
        "    div = (func(h)-func(0))/h\n",
        "  return psi/div"
      ],
      "metadata": {
        "id": "hjfwsiTrIWaV"
      },
      "execution_count": null,
      "outputs": []
    },
    {
      "cell_type": "markdown",
      "source": [
        "## Investigating the Ground State\n",
        "Ground state has $n=0$. Energies should satisfy $E_n=2n+1$ so we should have $E_n=1$. We'll also check the behaviour for $E_n=1\\pm 0.05$."
      ],
      "metadata": {
        "id": "l0jn64N2SaOD"
      }
    },
    {
      "cell_type": "code",
      "source": [
        "n = 0\n",
        "plt.plot(x,np.zeros(x.shape),linewidth=1, c='black')\n",
        "plt.plot(x,solve_numerov(f,x,n,1.00), '--', label=\"E = 1.00\")\n",
        "plt.plot(x,solve_numerov(f,x,n,0.95), '--', label=\"E = 0.95\")\n",
        "plt.plot(x,solve_numerov(f,x,n,1.05), '--', label=\"E = 1.05\")\n",
        "plt.plot(x,analytic_psi(n,x), label=\"Analytic\")\n",
        "plt.legend()\n",
        "y = np.pi**(0)*np.exp(-x**2/2)\n",
        "plt.title(\"Behaviour of psi approximation for different E\")\n",
        "plt.xlabel(\"x\")\n",
        "plt.ylabel(\"psi\")\n",
        "plt.ylim(-0.25,1.25)\n",
        "plt.xlim(0,5)"
      ],
      "metadata": {
        "colab": {
          "base_uri": "https://localhost:8080/",
          "height": 490
        },
        "id": "1_m9pM1KGOPX",
        "outputId": "fed3768c-7b94-4a5b-c10a-ae8b14ccf435"
      },
      "execution_count": null,
      "outputs": [
        {
          "output_type": "execute_result",
          "data": {
            "text/plain": [
              "(0.0, 5.0)"
            ]
          },
          "metadata": {},
          "execution_count": 6
        },
        {
          "output_type": "display_data",
          "data": {
            "text/plain": [
              "<Figure size 640x480 with 1 Axes>"
            ],
            "image/png": "[encoded data removed]"
          },
          "metadata": {}
        }
      ]
    },
    {
      "cell_type": "markdown",
      "source": [
        "The approximation clearly diverges quickly for $E\\not = 0$"
      ],
      "metadata": {
        "id": "muDVT0A4WKds"
      }
    },
    {
      "cell_type": "markdown",
      "source": [
        "## Higher Order States"
      ],
      "metadata": {
        "id": "uadZkzuDWYHE"
      }
    },
    {
      "cell_type": "code",
      "source": [
        "n = 7\n",
        "E = 2*n + 1\n",
        "y = analytic_psi(n, x)\n",
        "psi = solve_numerov(f,x,n,E)\n",
        "plt.plot(x,np.zeros(x.shape),linewidth=1, c='black')\n",
        "plt.plot(x,y,label='analytic')\n",
        "plt.plot(x,psi,'--',label='numerical')\n",
        "plt.legend()\n",
        "plt.ylim(-1.5,1.5)\n",
        "plt.xlim(x0,x1)\n",
        "plt.title(f\"n = {n} wave function approximation\")"
      ],
      "metadata": {
        "colab": {
          "base_uri": "https://localhost:8080/",
          "height": 470
        },
        "id": "QHsvBGpBIImx",
        "outputId": "01ef15a0-f170-419b-fc6a-c00ec8cf8c74"
      },
      "execution_count": null,
      "outputs": [
        {
          "output_type": "execute_result",
          "data": {
            "text/plain": [
              "Text(0.5, 1.0, 'n = 7 wave function approximation')"
            ]
          },
          "metadata": {},
          "execution_count": 7
        },
        {
          "output_type": "display_data",
          "data": {
            "text/plain": [
              "<Figure size 640x480 with 1 Axes>"
            ],
            "image/png": "[encoded data removed]"
          },
          "metadata": {}
        }
      ]
    },
    {
      "cell_type": "markdown",
      "source": [
        "## Finding Energy Eigenvalues using the Analytic Solution\n",
        "We employ the strategy of minimising a function proportional to the mean square error:\n",
        "$$L(E) = \\int_{x_0}^{x_1}[\\psi_a(x)-\\psi_n(x,E)]^2dx$$\n",
        "Gradient descent can be used to update the parameters, until a minimum of $L$ can be found. We iteratively update $L$ through:\n",
        "$$E_{i+1}=E_i-\\alpha\\frac{\\partial L}{\\partial E}\\Big|_{i}$$\n",
        "where $\\alpha$ is called the learning rate. We find the gradient with:\n",
        "$$\\frac{\\partial L}{\\partial E}=\\frac{L(E+h)-L(E)}{h}$$\n",
        "where $h \\ll 1$.\n",
        "Due to the extreme divergence of the approximation for large $x$, we observe behaviour where $\\partial_E L \\gg E$. This causes the optimiser to diverge. A way to prevent this is by using a very small learning rate. This causes it to converge but very slowly. In order to solve this problem, we scale the loss function by a factor of $[\\text{max}(\\psi_a(x)-\\psi_n(x,E_0))]^{-1}$. This maps the domain of $L$ onto the same order as $E$."
      ],
      "metadata": {
        "id": "q3VmeXeqZXDo"
      }
    },
    {
      "cell_type": "code",
      "source": [
        "def MSE(f1,f2,norm_factor):\n",
        "  scaled_res = (f1-f2)/norm_factor\n",
        "  return np.sum((scaled_res)**2)/num_points\n",
        "h = 0.000001\n",
        "n = 2\n",
        "E = 5.3\n",
        "alpha = 0.1\n",
        "norm_factor = np.max(np.abs((analytic_psi(n, x)-solve_numerov(f,x, n, E))))\n",
        "def grad_loss(analytic_psi, solve_numerov, n, x, f, E, h):\n",
        "  #print(f\"norm_factor: {norm_factor}\")\n",
        "  return (MSE(analytic_psi(n, x), solve_numerov(f,x, n, E+h), norm_factor)-MSE(analytic_psi(n, x), solve_numerov(f,x, n, E), norm_factor))/h\n",
        "for i in range(50):\n",
        "  dLdE = grad_loss(analytic_psi, solve_numerov, n, x, f, E, h)\n",
        "  #print(f\"dLdE = {dLdE}\")\n",
        "  E = E - alpha * dLdE\n",
        "  print(f\"epoch {i}: E = {E}\")"
      ],
      "metadata": {
        "colab": {
          "base_uri": "https://localhost:8080/"
        },
        "collapsed": true,
        "id": "ZEQavnuP94iB",
        "outputId": "3e6e8d57-3cae-4755-ae3e-0929aa06125b"
      },
      "execution_count": null,
      "outputs": [
        {
          "output_type": "stream",
          "name": "stdout",
          "text": [
            "epoch 0: E = 5.284622454428373\n",
            "epoch 1: E = 5.269504903533923\n",
            "epoch 2: E = 5.2546863118642095\n",
            "epoch 3: E = 5.240204290662867\n",
            "epoch 4: E = 5.2260945508394725\n",
            "epoch 5: E = 5.212390382766566\n",
            "epoch 6: E = 5.199122167002635\n",
            "epoch 7: E = 5.186316943413337\n",
            "epoch 8: E = 5.173998044403605\n",
            "epoch 9: E = 5.162184814860069\n",
            "epoch 10: E = 5.150892418769462\n",
            "epoch 11: E = 5.140131743057345\n",
            "epoch 12: E = 5.129909397940433\n",
            "epoch 13: E = 5.120227810505557\n",
            "epoch 14: E = 5.1110854020556475\n",
            "epoch 15: E = 5.1024768413910735\n",
            "epoch 16: E = 5.094393359203986\n",
            "epoch 17: E = 5.0868231102874075\n",
            "epoch 18: E = 5.079751566022102\n",
            "epoch 19: E = 5.073161926677322\n",
            "epoch 20: E = 5.067035535427678\n",
            "epoch 21: E = 5.061352283495245\n",
            "epoch 22: E = 5.056090998857816\n",
            "epoch 23: E = 5.05122980613953\n",
            "epoch 24: E = 5.046746455004656\n",
            "epoch 25: E = 5.0426186118900915\n",
            "epoch 26: E = 5.0388241146310575\n",
            "epoch 27: E = 5.035341187533003\n",
            "epoch 28: E = 5.03214862066123\n",
            "epoch 29: E = 5.029225912660335\n",
            "epoch 30: E = 5.026553382047165\n",
            "epoch 31: E = 5.024112248574187\n",
            "epoch 32: E = 5.021884688820931\n",
            "epoch 33: E = 5.0198538697565525\n",
            "epoch 34: E = 5.018003962769507\n",
            "epoch 35: E = 5.016320142068456\n",
            "epoch 36: E = 5.014788570051665\n",
            "epoch 37: E = 5.0133963725904325\n",
            "epoch 38: E = 5.012131606102003\n",
            "epoch 39: E = 5.010983218975016\n",
            "epoch 40: E = 5.0099410088203955\n",
            "epoch 41: E = 5.008995577036743\n",
            "epoch 42: E = 5.008138281846484\n",
            "epoch 43: E = 5.007361191177459\n",
            "epoch 44: E = 5.006657035537171\n",
            "epoch 45: E = 5.006019162028099\n",
            "epoch 46: E = 5.005441489793713\n",
            "epoch 47: E = 5.004918467137499\n",
            "epoch 48: E = 5.0044450307254795\n",
            "epoch 49: E = 5.004016567006849\n"
          ]
        }
      ]
    },
    {
      "cell_type": "markdown",
      "source": [
        "## Finding Energy Eigenvalues Without the Analytic Solution\n",
        "Observe from the first section that our approximations rapidly diverge at $x_1$ for values $E\\not = 2n+1$. We can attempt to use this idea to determine $E$ by minimising $|\\psi(x_1)|$. We can again use gradient descent, except this time our loss function will simply be:\n",
        "$$L(E) = [\\psi_n(x_1, E)]^2$$"
      ],
      "metadata": {
        "id": "zshgGy0MJbW-"
      }
    },
    {
      "cell_type": "code",
      "source": [
        "h = 0.000001\n",
        "n = 6\n",
        "E = 12.95\n",
        "alpha = 0.0001\n",
        "norm_factor = solve_numerov(f, x, n, E)[-1]\n",
        "print(f\"norm_factor = {norm_factor}\")\n",
        "for i in range(50):\n",
        "  loss = lambda x: x**2\n",
        "  dLdE = (loss(solve_numerov(f,x,n, E+h)[-1]/norm_factor)-loss(solve_numerov(f,x,n, E)[-1]/norm_factor))/h\n",
        "  #print(f\"dLdE = {dLdE}\")\n",
        "  E = E - alpha * dLdE\n",
        "  print(f\"epoch {i}: E = {E}\")"
      ],
      "metadata": {
        "colab": {
          "base_uri": "https://localhost:8080/"
        },
        "id": "wzuldWXn_AdM",
        "outputId": "65208030-5f10-4eb8-c669-3609c4276c59"
      },
      "execution_count": null,
      "outputs": [
        {
          "output_type": "stream",
          "name": "stdout",
          "text": [
            "norm_factor = -0.9647767296865819\n",
            "epoch 0: E = 12.953983863113132\n",
            "epoch 1: E = 12.957641369235445\n",
            "epoch 2: E = 12.961001669995824\n",
            "epoch 3: E = 12.964090951033196\n",
            "epoch 4: E = 12.966932787624879\n",
            "epoch 5: E = 12.96954844908853\n",
            "epoch 6: E = 12.97195716213128\n",
            "epoch 7: E = 12.97417633800681\n",
            "epoch 8: E = 12.976221770708346\n",
            "epoch 9: E = 12.978107809008508\n",
            "epoch 10: E = 12.979847507525431\n",
            "epoch 11: E = 12.981452759311935\n",
            "epoch 12: E = 12.982934412414677\n",
            "epoch 13: E = 12.984302373169102\n",
            "epoch 14: E = 12.985565697407603\n",
            "epoch 15: E = 12.986732671544921\n",
            "epoch 16: E = 12.987810884967397\n",
            "epoch 17: E = 12.988807294504547\n",
            "epoch 18: E = 12.9897282820551\n",
            "epoch 19: E = 12.990579706377765\n",
            "epoch 20: E = 12.991366949566524\n",
            "epoch 21: E = 12.99209495905208\n",
            "epoch 22: E = 12.992768285062233\n",
            "epoch 23: E = 12.993391115013921\n",
            "epoch 24: E = 12.993967304133268\n",
            "epoch 25: E = 12.994500403608638\n",
            "epoch 26: E = 12.99499368585348\n",
            "epoch 27: E = 12.995450167630848\n",
            "epoch 28: E = 12.99587263103171\n",
            "epoch 29: E = 12.996263642567438\n",
            "epoch 30: E = 12.996625570670425\n",
            "epoch 31: E = 12.99696060156655\n",
            "epoch 32: E = 12.997270753892195\n",
            "epoch 33: E = 12.997557891957038\n",
            "epoch 34: E = 12.997823737954443\n",
            "epoch 35: E = 12.998069883178367\n",
            "epoch 36: E = 12.998297798189137\n",
            "epoch 37: E = 12.998508842294992\n",
            "epoch 38: E = 12.998704272136386\n",
            "epoch 39: E = 12.998885249648538\n",
            "epoch 40: E = 12.999052849341364\n",
            "epoch 41: E = 12.999208065035685\n",
            "epoch 42: E = 12.999351816009943\n",
            "epoch 43: E = 12.999484952710507\n",
            "epoch 44: E = 12.999608261979427\n",
            "epoch 45: E = 12.999722471889458\n",
            "epoch 46: E = 12.999828256193515\n",
            "epoch 47: E = 12.999926238438297\n",
            "epoch 48: E = 13.00001699574317\n",
            "epoch 49: E = 13.0001010622966\n"
          ]
        }
      ]
    },
    {
      "cell_type": "markdown",
      "source": [
        "We see pretty good convergence, even for larger values of $n$"
      ],
      "metadata": {
        "id": "0jPQ3YMoQBBz"
      }
    },
    {
      "cell_type": "code",
      "source": [],
      "metadata": {
        "id": "AonaNpBOMqG9"
      },
      "execution_count": null,
      "outputs": []
    }
  ]
}